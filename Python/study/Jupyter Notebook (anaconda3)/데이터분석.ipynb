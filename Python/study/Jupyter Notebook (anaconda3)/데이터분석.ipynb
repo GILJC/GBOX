{
 "cells": [
  {
   "cell_type": "code",
   "execution_count": 1,
   "id": "8f9ba08d",
   "metadata": {},
   "outputs": [],
   "source": [
    "import pandas as pd"
   ]
  },
  {
   "cell_type": "code",
   "execution_count": 13,
   "id": "0659b8ab",
   "metadata": {},
   "outputs": [],
   "source": [
    "df = pd.DataFrame({\n",
    "    \"name\": [\"Bob\", \"Alex\", \"Janice\"],\n",
    "    \"age\": [60, 25, 33]\n",
    "})"
   ]
  },
  {
   "cell_type": "code",
   "execution_count": 14,
   "id": "d14d06ec",
   "metadata": {
    "scrolled": true
   },
   "outputs": [
    {
     "data": {
      "text/html": [
       "<div>\n",
       "<style scoped>\n",
       "    .dataframe tbody tr th:only-of-type {\n",
       "        vertical-align: middle;\n",
       "    }\n",
       "\n",
       "    .dataframe tbody tr th {\n",
       "        vertical-align: top;\n",
       "    }\n",
       "\n",
       "    .dataframe thead th {\n",
       "        text-align: right;\n",
       "    }\n",
       "</style>\n",
       "<table border=\"1\" class=\"dataframe\">\n",
       "  <thead>\n",
       "    <tr style=\"text-align: right;\">\n",
       "      <th></th>\n",
       "      <th>name</th>\n",
       "      <th>age</th>\n",
       "    </tr>\n",
       "  </thead>\n",
       "  <tbody>\n",
       "    <tr>\n",
       "      <th>0</th>\n",
       "      <td>Bob</td>\n",
       "      <td>60</td>\n",
       "    </tr>\n",
       "    <tr>\n",
       "      <th>1</th>\n",
       "      <td>Alex</td>\n",
       "      <td>25</td>\n",
       "    </tr>\n",
       "    <tr>\n",
       "      <th>2</th>\n",
       "      <td>Janice</td>\n",
       "      <td>33</td>\n",
       "    </tr>\n",
       "  </tbody>\n",
       "</table>\n",
       "</div>"
      ],
      "text/plain": [
       "     name  age\n",
       "0     Bob   60\n",
       "1    Alex   25\n",
       "2  Janice   33"
      ]
     },
     "execution_count": 14,
     "metadata": {},
     "output_type": "execute_result"
    }
   ],
   "source": [
    "df"
   ]
  },
  {
   "cell_type": "code",
   "execution_count": 6,
   "id": "1fcd6e51",
   "metadata": {},
   "outputs": [],
   "source": [
    "# csv 파일에서 데이터프레임을 만들 수 있다.\n",
    "other_df = pd.read_csv(\"myfile.csv\")"
   ]
  },
  {
   "cell_type": "code",
   "execution_count": 8,
   "id": "c2cc9e50",
   "metadata": {},
   "outputs": [
    {
     "data": {
      "text/html": [
       "<div>\n",
       "<style scoped>\n",
       "    .dataframe tbody tr th:only-of-type {\n",
       "        vertical-align: middle;\n",
       "    }\n",
       "\n",
       "    .dataframe tbody tr th {\n",
       "        vertical-align: top;\n",
       "    }\n",
       "\n",
       "    .dataframe thead th {\n",
       "        text-align: right;\n",
       "    }\n",
       "</style>\n",
       "<table border=\"1\" class=\"dataframe\">\n",
       "  <thead>\n",
       "    <tr style=\"text-align: right;\">\n",
       "      <th></th>\n",
       "      <th>Unnamed: 0</th>\n",
       "      <th>book_title</th>\n",
       "      <th>publishing_date</th>\n",
       "      <th>authors</th>\n",
       "      <th>text</th>\n",
       "      <th>text_clean</th>\n",
       "    </tr>\n",
       "  </thead>\n",
       "  <tbody>\n",
       "    <tr>\n",
       "      <th>0</th>\n",
       "      <td>0</td>\n",
       "      <td>The Republic</td>\n",
       "      <td>-375</td>\n",
       "      <td>Plato</td>\n",
       "      <td>BOOK I\\r\\n\\r\\n\\r\\nSOCRATES - GLAUCON\\r\\n\\r\\nI ...</td>\n",
       "      <td>book socrates glaucon went yesterday piraeus g...</td>\n",
       "    </tr>\n",
       "    <tr>\n",
       "      <th>1</th>\n",
       "      <td>1</td>\n",
       "      <td>The Prince</td>\n",
       "      <td>1532</td>\n",
       "      <td>Niccolò Machiavelli</td>\n",
       "      <td>DEDICATION\\r\\n\\r\\n\\r\\nTo the Magnificent Loren...</td>\n",
       "      <td>dedication magnificent lorenzo di piero de med...</td>\n",
       "    </tr>\n",
       "    <tr>\n",
       "      <th>2</th>\n",
       "      <td>2</td>\n",
       "      <td>The Leviathan</td>\n",
       "      <td>1651</td>\n",
       "      <td>Thomas Hobbes</td>\n",
       "      <td>Nature (the art whereby God hath made and gove...</td>\n",
       "      <td>nature the art whereby god hath made governes ...</td>\n",
       "    </tr>\n",
       "    <tr>\n",
       "      <th>3</th>\n",
       "      <td>3</td>\n",
       "      <td>Second Treatise of Government</td>\n",
       "      <td>1689</td>\n",
       "      <td>John Locke</td>\n",
       "      <td>PREFACE\\r\\n\\r\\nReader, thou hast here the begi...</td>\n",
       "      <td>preface reader thou hast beginning end discour...</td>\n",
       "    </tr>\n",
       "    <tr>\n",
       "      <th>4</th>\n",
       "      <td>4</td>\n",
       "      <td>Tao Te Ching</td>\n",
       "      <td>-400</td>\n",
       "      <td>Lao Tzu</td>\n",
       "      <td>PART 1.\\r\\n\\r\\n\\r\\nCh. 1. 1. The Tao that can ...</td>\n",
       "      <td>part 1 ch 1 1 tao trodden enduring unchanging ...</td>\n",
       "    </tr>\n",
       "    <tr>\n",
       "      <th>5</th>\n",
       "      <td>5</td>\n",
       "      <td>The Social Contract</td>\n",
       "      <td>1762</td>\n",
       "      <td>Jean-Jacques Rousseau</td>\n",
       "      <td>This little treatise is part of a longer work ...</td>\n",
       "      <td>little treatise part longer work began years a...</td>\n",
       "    </tr>\n",
       "  </tbody>\n",
       "</table>\n",
       "</div>"
      ],
      "text/plain": [
       "   Unnamed: 0                     book_title  publishing_date  \\\n",
       "0           0                   The Republic             -375   \n",
       "1           1                     The Prince             1532   \n",
       "2           2                  The Leviathan             1651   \n",
       "3           3  Second Treatise of Government             1689   \n",
       "4           4                   Tao Te Ching             -400   \n",
       "5           5            The Social Contract             1762   \n",
       "\n",
       "                 authors                                               text  \\\n",
       "0                  Plato  BOOK I\\r\\n\\r\\n\\r\\nSOCRATES - GLAUCON\\r\\n\\r\\nI ...   \n",
       "1    Niccolò Machiavelli  DEDICATION\\r\\n\\r\\n\\r\\nTo the Magnificent Loren...   \n",
       "2          Thomas Hobbes  Nature (the art whereby God hath made and gove...   \n",
       "3             John Locke  PREFACE\\r\\n\\r\\nReader, thou hast here the begi...   \n",
       "4                Lao Tzu  PART 1.\\r\\n\\r\\n\\r\\nCh. 1. 1. The Tao that can ...   \n",
       "5  Jean-Jacques Rousseau  This little treatise is part of a longer work ...   \n",
       "\n",
       "                                          text_clean  \n",
       "0  book socrates glaucon went yesterday piraeus g...  \n",
       "1  dedication magnificent lorenzo di piero de med...  \n",
       "2  nature the art whereby god hath made governes ...  \n",
       "3  preface reader thou hast beginning end discour...  \n",
       "4  part 1 ch 1 1 tao trodden enduring unchanging ...  \n",
       "5  little treatise part longer work began years a...  "
      ]
     },
     "execution_count": 8,
     "metadata": {},
     "output_type": "execute_result"
    }
   ],
   "source": [
    "other_df"
   ]
  },
  {
   "cell_type": "code",
   "execution_count": 17,
   "id": "2121c311",
   "metadata": {},
   "outputs": [],
   "source": [
    "# 기존 열을 이용해 새로운 열을 쉽게 만들 수 있다.\n",
    "df[\"age_plus_one\"] = df[\"age\"] + 1  # 열 = colum을 추가할 수 있다.  age에 1을 더한값을 넣겠다.\n",
    "df[\"age_times_two\"] = 2 * df[\"age\"]  # age의 2배\n",
    "df[\"age_squared\"] = df[\"age\"] * df[\"age\"]\n",
    "df[\"over_30\"] = (df[\"age\"] > 30)  # 이 열은 불리언(boolean)형의 값을 갖는다.  . age가 30을 넘는 값만"
   ]
  },
  {
   "cell_type": "code",
   "execution_count": 18,
   "id": "e80a3475",
   "metadata": {},
   "outputs": [
    {
     "data": {
      "text/html": [
       "<div>\n",
       "<style scoped>\n",
       "    .dataframe tbody tr th:only-of-type {\n",
       "        vertical-align: middle;\n",
       "    }\n",
       "\n",
       "    .dataframe tbody tr th {\n",
       "        vertical-align: top;\n",
       "    }\n",
       "\n",
       "    .dataframe thead th {\n",
       "        text-align: right;\n",
       "    }\n",
       "</style>\n",
       "<table border=\"1\" class=\"dataframe\">\n",
       "  <thead>\n",
       "    <tr style=\"text-align: right;\">\n",
       "      <th></th>\n",
       "      <th>name</th>\n",
       "      <th>age</th>\n",
       "      <th>age_plus_one</th>\n",
       "      <th>age_times_two</th>\n",
       "      <th>age_squared</th>\n",
       "      <th>over_30</th>\n",
       "    </tr>\n",
       "  </thead>\n",
       "  <tbody>\n",
       "    <tr>\n",
       "      <th>0</th>\n",
       "      <td>Bob</td>\n",
       "      <td>60</td>\n",
       "      <td>61</td>\n",
       "      <td>120</td>\n",
       "      <td>3600</td>\n",
       "      <td>True</td>\n",
       "    </tr>\n",
       "    <tr>\n",
       "      <th>1</th>\n",
       "      <td>Alex</td>\n",
       "      <td>25</td>\n",
       "      <td>26</td>\n",
       "      <td>50</td>\n",
       "      <td>625</td>\n",
       "      <td>False</td>\n",
       "    </tr>\n",
       "    <tr>\n",
       "      <th>2</th>\n",
       "      <td>Janice</td>\n",
       "      <td>33</td>\n",
       "      <td>34</td>\n",
       "      <td>66</td>\n",
       "      <td>1089</td>\n",
       "      <td>True</td>\n",
       "    </tr>\n",
       "  </tbody>\n",
       "</table>\n",
       "</div>"
      ],
      "text/plain": [
       "     name  age  age_plus_one  age_times_two  age_squared  over_30\n",
       "0     Bob   60            61            120         3600     True\n",
       "1    Alex   25            26             50          625    False\n",
       "2  Janice   33            34             66         1089     True"
      ]
     },
     "execution_count": 18,
     "metadata": {},
     "output_type": "execute_result"
    }
   ],
   "source": [
    "df"
   ]
  },
  {
   "cell_type": "code",
   "execution_count": 30,
   "id": "f5e24dc8",
   "metadata": {},
   "outputs": [],
   "source": [
    "# 데이터프레임의 열에도 내장 함수가 있다. 예를 들면\n",
    "total_age = df[\"age\"].sum()  # 합을 구한다.\n",
    "median_age = df[\"age\"].quantile(0.5)  # 중간값을 구한다.  / quantile -> 분위값 구하기"
   ]
  },
  {
   "cell_type": "code",
   "execution_count": 21,
   "id": "3b5978d2",
   "metadata": {},
   "outputs": [
    {
     "data": {
      "text/plain": [
       "118"
      ]
     },
     "execution_count": 21,
     "metadata": {},
     "output_type": "execute_result"
    }
   ],
   "source": [
    "total_age"
   ]
  },
  {
   "cell_type": "code",
   "execution_count": 23,
   "id": "04068bba",
   "metadata": {},
   "outputs": [
    {
     "data": {
      "text/plain": [
       "33.0"
      ]
     },
     "execution_count": 23,
     "metadata": {},
     "output_type": "execute_result"
    }
   ],
   "source": [
    "median_age"
   ]
  },
  {
   "cell_type": "code",
   "execution_count": 24,
   "id": "55f06b40",
   "metadata": {},
   "outputs": [],
   "source": [
    "# 데이터 프레임에서 여러 행을 불러오고\n",
    "# 그것으로 다시 새로운 데이터 프레임을 만들 수 있다.\n",
    "df_below50 = df[df[\"age\"] < 50]"
   ]
  },
  {
   "cell_type": "code",
   "execution_count": 25,
   "id": "2ab2d931",
   "metadata": {},
   "outputs": [
    {
     "data": {
      "text/html": [
       "<div>\n",
       "<style scoped>\n",
       "    .dataframe tbody tr th:only-of-type {\n",
       "        vertical-align: middle;\n",
       "    }\n",
       "\n",
       "    .dataframe tbody tr th {\n",
       "        vertical-align: top;\n",
       "    }\n",
       "\n",
       "    .dataframe thead th {\n",
       "        text-align: right;\n",
       "    }\n",
       "</style>\n",
       "<table border=\"1\" class=\"dataframe\">\n",
       "  <thead>\n",
       "    <tr style=\"text-align: right;\">\n",
       "      <th></th>\n",
       "      <th>name</th>\n",
       "      <th>age</th>\n",
       "      <th>age_plus_one</th>\n",
       "      <th>age_times_two</th>\n",
       "      <th>age_squared</th>\n",
       "      <th>over_30</th>\n",
       "    </tr>\n",
       "  </thead>\n",
       "  <tbody>\n",
       "    <tr>\n",
       "      <th>1</th>\n",
       "      <td>Alex</td>\n",
       "      <td>25</td>\n",
       "      <td>26</td>\n",
       "      <td>50</td>\n",
       "      <td>625</td>\n",
       "      <td>False</td>\n",
       "    </tr>\n",
       "    <tr>\n",
       "      <th>2</th>\n",
       "      <td>Janice</td>\n",
       "      <td>33</td>\n",
       "      <td>34</td>\n",
       "      <td>66</td>\n",
       "      <td>1089</td>\n",
       "      <td>True</td>\n",
       "    </tr>\n",
       "  </tbody>\n",
       "</table>\n",
       "</div>"
      ],
      "text/plain": [
       "     name  age  age_plus_one  age_times_two  age_squared  over_30\n",
       "1    Alex   25            26             50          625    False\n",
       "2  Janice   33            34             66         1089     True"
      ]
     },
     "execution_count": 25,
     "metadata": {},
     "output_type": "execute_result"
    }
   ],
   "source": [
    "df_below50"
   ]
  },
  {
   "cell_type": "code",
   "execution_count": 26,
   "id": "db07d424",
   "metadata": {},
   "outputs": [],
   "source": [
    "# 데이터프레임의 열에 람다 함수를 적용할 수 있다.\n",
    "df[\"age_squared\"] = df[\"age\"].apply(lambda x: x * x)"
   ]
  },
  {
   "cell_type": "code",
   "execution_count": 27,
   "id": "04d8627a",
   "metadata": {},
   "outputs": [
    {
     "data": {
      "text/html": [
       "<div>\n",
       "<style scoped>\n",
       "    .dataframe tbody tr th:only-of-type {\n",
       "        vertical-align: middle;\n",
       "    }\n",
       "\n",
       "    .dataframe tbody tr th {\n",
       "        vertical-align: top;\n",
       "    }\n",
       "\n",
       "    .dataframe thead th {\n",
       "        text-align: right;\n",
       "    }\n",
       "</style>\n",
       "<table border=\"1\" class=\"dataframe\">\n",
       "  <thead>\n",
       "    <tr style=\"text-align: right;\">\n",
       "      <th></th>\n",
       "      <th>name</th>\n",
       "      <th>age</th>\n",
       "      <th>age_plus_one</th>\n",
       "      <th>age_times_two</th>\n",
       "      <th>age_squared</th>\n",
       "      <th>over_30</th>\n",
       "    </tr>\n",
       "  </thead>\n",
       "  <tbody>\n",
       "    <tr>\n",
       "      <th>0</th>\n",
       "      <td>Bob</td>\n",
       "      <td>60</td>\n",
       "      <td>61</td>\n",
       "      <td>120</td>\n",
       "      <td>3600</td>\n",
       "      <td>True</td>\n",
       "    </tr>\n",
       "    <tr>\n",
       "      <th>1</th>\n",
       "      <td>Alex</td>\n",
       "      <td>25</td>\n",
       "      <td>26</td>\n",
       "      <td>50</td>\n",
       "      <td>625</td>\n",
       "      <td>False</td>\n",
       "    </tr>\n",
       "    <tr>\n",
       "      <th>2</th>\n",
       "      <td>Janice</td>\n",
       "      <td>33</td>\n",
       "      <td>34</td>\n",
       "      <td>66</td>\n",
       "      <td>1089</td>\n",
       "      <td>True</td>\n",
       "    </tr>\n",
       "  </tbody>\n",
       "</table>\n",
       "</div>"
      ],
      "text/plain": [
       "     name  age  age_plus_one  age_times_two  age_squared  over_30\n",
       "0     Bob   60            61            120         3600     True\n",
       "1    Alex   25            26             50          625    False\n",
       "2  Janice   33            34             66         1089     True"
      ]
     },
     "execution_count": 27,
     "metadata": {},
     "output_type": "execute_result"
    }
   ],
   "source": [
    "df"
   ]
  },
  {
   "cell_type": "code",
   "execution_count": null,
   "id": "ffc22fe1",
   "metadata": {},
   "outputs": [],
   "source": []
  },
  {
   "cell_type": "code",
   "execution_count": null,
   "id": "e9c5fb69",
   "metadata": {},
   "outputs": [],
   "source": []
  },
  {
   "cell_type": "code",
   "execution_count": 39,
   "id": "8bfaa21f",
   "metadata": {},
   "outputs": [],
   "source": [
    "df = pd.DataFrame({\n",
    "    \"name\": [\"Bob\", \"Alex\", \"Jane\"],\n",
    "    \"age\": [60, 25, 33]\n",
    "})"
   ]
  },
  {
   "cell_type": "code",
   "execution_count": 40,
   "id": "434853c8",
   "metadata": {},
   "outputs": [
    {
     "data": {
      "text/html": [
       "<div>\n",
       "<style scoped>\n",
       "    .dataframe tbody tr th:only-of-type {\n",
       "        vertical-align: middle;\n",
       "    }\n",
       "\n",
       "    .dataframe tbody tr th {\n",
       "        vertical-align: top;\n",
       "    }\n",
       "\n",
       "    .dataframe thead th {\n",
       "        text-align: right;\n",
       "    }\n",
       "</style>\n",
       "<table border=\"1\" class=\"dataframe\">\n",
       "  <thead>\n",
       "    <tr style=\"text-align: right;\">\n",
       "      <th></th>\n",
       "      <th>name</th>\n",
       "      <th>age</th>\n",
       "    </tr>\n",
       "  </thead>\n",
       "  <tbody>\n",
       "    <tr>\n",
       "      <th>0</th>\n",
       "      <td>Bob</td>\n",
       "      <td>60</td>\n",
       "    </tr>\n",
       "    <tr>\n",
       "      <th>1</th>\n",
       "      <td>Alex</td>\n",
       "      <td>25</td>\n",
       "    </tr>\n",
       "    <tr>\n",
       "      <th>2</th>\n",
       "      <td>Jane</td>\n",
       "      <td>33</td>\n",
       "    </tr>\n",
       "  </tbody>\n",
       "</table>\n",
       "</div>"
      ],
      "text/plain": [
       "   name  age\n",
       "0   Bob   60\n",
       "1  Alex   25\n",
       "2  Jane   33"
      ]
     },
     "execution_count": 40,
     "metadata": {},
     "output_type": "execute_result"
    }
   ],
   "source": [
    "df"
   ]
  },
  {
   "cell_type": "code",
   "execution_count": 41,
   "id": "226d4026",
   "metadata": {},
   "outputs": [
    {
     "name": "stdout",
     "output_type": "stream",
     "text": [
      "RangeIndex(start=0, stop=3, step=1)\n"
     ]
    }
   ],
   "source": [
    "# df에는 행마다 갖는 순서 번호 = index 값을 갖는다\n",
    "print(df.index) # 기본값으로 줄 번호를 사용하므로 0-2를 출력한다."
   ]
  },
  {
   "cell_type": "code",
   "execution_count": 42,
   "id": "ac4abe68",
   "metadata": {},
   "outputs": [
    {
     "name": "stdout",
     "output_type": "stream",
     "text": [
      "Index(['Bob', 'Alex', 'Jane'], dtype='object', name='name')\n"
     ]
    }
   ],
   "source": [
    "# 이번엔 내용은 같지만 색인으로 name을 사용하는 데이터 프레임을 만든다.\n",
    "df_w_name_as_ind = df.set_index(\"name\")\n",
    "print(df_w_name_as_ind.index)  # 색인으로 사용하는 이름을 출력한다. -> name값이 index가 됨"
   ]
  },
  {
   "cell_type": "code",
   "execution_count": 57,
   "id": "c1966d5e",
   "metadata": {},
   "outputs": [
    {
     "name": "stdout",
     "output_type": "stream",
     "text": [
      "60\n"
     ]
    }
   ],
   "source": [
    "# Bob 행의 값을 읽는다.\n",
    "bobs_row = df_w_name_as_ind.loc[\"Bob\"]  # -> ix 메소드가 빠져있어서 Error 발생 -> loc로 바뀜.\n",
    "#bobs_row = df_w_name_as_ind.ix[\"Bob\"]\n",
    "print(bobs_row[\"age\"])  # 60을 출력"
   ]
  },
  {
   "cell_type": "code",
   "execution_count": null,
   "id": "666cf49f",
   "metadata": {},
   "outputs": [],
   "source": []
  },
  {
   "cell_type": "code",
   "execution_count": null,
   "id": "6c6e8159",
   "metadata": {},
   "outputs": [],
   "source": []
  },
  {
   "cell_type": "code",
   "execution_count": 46,
   "id": "b8796905",
   "metadata": {},
   "outputs": [],
   "source": [
    "# 보통 팬더스를 import할 때는 항상 아래처럼 pd로 바꾼다\n",
    "# import pandas as bd -> import 판다스는 위에 이미 했으니 주석\n",
    "s = pd.Series([1,2,3])  # 리스트로 시리즈를 만든다."
   ]
  },
  {
   "cell_type": "code",
   "execution_count": 47,
   "id": "fa878591",
   "metadata": {},
   "outputs": [
    {
     "data": {
      "text/plain": [
       "0    1\n",
       "1    2\n",
       "2    3\n",
       "dtype: int64"
      ]
     },
     "execution_count": 47,
     "metadata": {},
     "output_type": "execute_result"
    }
   ],
   "source": [
    "# 시리즈 S의 값을 출력해보자.\n",
    "# 왼쪽의 0, 1, 2는 인덱스, 오른쪽의 1, 2, 3은 시리즈 s에 있는 값이다.\n",
    "s"
   ]
  },
  {
   "cell_type": "code",
   "execution_count": 48,
   "id": "5ff4853e",
   "metadata": {},
   "outputs": [
    {
     "data": {
      "text/plain": [
       "0    3\n",
       "1    4\n",
       "2    5\n",
       "dtype: int64"
      ]
     },
     "execution_count": 48,
     "metadata": {},
     "output_type": "execute_result"
    }
   ],
   "source": [
    "s+2  # s의 모든 성분에 2를 더한다."
   ]
  },
  {
   "cell_type": "code",
   "execution_count": 49,
   "id": "ec731d2a",
   "metadata": {},
   "outputs": [
    {
     "data": {
      "text/plain": [
       "RangeIndex(start=0, stop=3, step=1)"
      ]
     },
     "execution_count": 49,
     "metadata": {},
     "output_type": "execute_result"
    }
   ],
   "source": [
    "s.index  # s의 인덱스"
   ]
  },
  {
   "cell_type": "code",
   "execution_count": 50,
   "id": "9955df15",
   "metadata": {},
   "outputs": [
    {
     "data": {
      "text/plain": [
       "0    5\n",
       "1    6\n",
       "2    8\n",
       "dtype: int64"
      ]
     },
     "execution_count": 50,
     "metadata": {},
     "output_type": "execute_result"
    }
   ],
   "source": [
    "# 길이가 같은 두 시리즈를 더하면 성분별로 덧셈을 한다.\n",
    "s + pd.Series([4,4,5])"
   ]
  },
  {
   "cell_type": "code",
   "execution_count": null,
   "id": "aeac4193",
   "metadata": {},
   "outputs": [],
   "source": []
  },
  {
   "cell_type": "markdown",
   "id": "8c8a8227",
   "metadata": {},
   "source": [
    "    위에서 시리즈의 각 성분은 모두 같은 자료형이어야 한닥소 말했는데, 팬더스의 기능을 전부 사용해야 하는 상황이 아니면 여러 자료형을 시리즈 하나에 넣어도 상관없습니다."
   ]
  },
  {
   "cell_type": "code",
   "execution_count": null,
   "id": "cc644954",
   "metadata": {},
   "outputs": [],
   "source": []
  },
  {
   "cell_type": "code",
   "execution_count": 54,
   "id": "b9f76b7c",
   "metadata": {},
   "outputs": [],
   "source": [
    "bobs_row = df_w_name_as_ind.loc[\"Bob\"]  # -> ix 메소드가 빠져있어서 Error 발생"
   ]
  },
  {
   "cell_type": "code",
   "execution_count": 55,
   "id": "54c00977",
   "metadata": {},
   "outputs": [
    {
     "data": {
      "text/plain": [
       "pandas.core.series.Series"
      ]
     },
     "execution_count": 55,
     "metadata": {},
     "output_type": "execute_result"
    }
   ],
   "source": [
    "type(bobs_row)"
   ]
  },
  {
   "cell_type": "code",
   "execution_count": 56,
   "id": "fdbe7114",
   "metadata": {},
   "outputs": [
    {
     "data": {
      "text/plain": [
       "age    60\n",
       "Name: Bob, dtype: int64"
      ]
     },
     "execution_count": 56,
     "metadata": {},
     "output_type": "execute_result"
    }
   ],
   "source": [
    "bobs_row"
   ]
  },
  {
   "cell_type": "code",
   "execution_count": null,
   "id": "213bb4f3",
   "metadata": {},
   "outputs": [],
   "source": []
  },
  {
   "cell_type": "code",
   "execution_count": null,
   "id": "ddf06e1f",
   "metadata": {},
   "outputs": [],
   "source": []
  },
  {
   "cell_type": "code",
   "execution_count": 64,
   "id": "46b87b3f",
   "metadata": {},
   "outputs": [],
   "source": [
    "df_w_age = pd.DataFrame({\n",
    "    \"name\": [\"Tom\", \"Tyrell\", \"Claire\"],\n",
    "    \"age\": [60, 25, 33]\n",
    "})"
   ]
  },
  {
   "cell_type": "code",
   "execution_count": 65,
   "id": "cb522869",
   "metadata": {},
   "outputs": [
    {
     "data": {
      "text/html": [
       "<div>\n",
       "<style scoped>\n",
       "    .dataframe tbody tr th:only-of-type {\n",
       "        vertical-align: middle;\n",
       "    }\n",
       "\n",
       "    .dataframe tbody tr th {\n",
       "        vertical-align: top;\n",
       "    }\n",
       "\n",
       "    .dataframe thead th {\n",
       "        text-align: right;\n",
       "    }\n",
       "</style>\n",
       "<table border=\"1\" class=\"dataframe\">\n",
       "  <thead>\n",
       "    <tr style=\"text-align: right;\">\n",
       "      <th></th>\n",
       "      <th>name</th>\n",
       "      <th>age</th>\n",
       "    </tr>\n",
       "  </thead>\n",
       "  <tbody>\n",
       "    <tr>\n",
       "      <th>0</th>\n",
       "      <td>Tom</td>\n",
       "      <td>60</td>\n",
       "    </tr>\n",
       "    <tr>\n",
       "      <th>1</th>\n",
       "      <td>Tyrell</td>\n",
       "      <td>25</td>\n",
       "    </tr>\n",
       "    <tr>\n",
       "      <th>2</th>\n",
       "      <td>Claire</td>\n",
       "      <td>33</td>\n",
       "    </tr>\n",
       "  </tbody>\n",
       "</table>\n",
       "</div>"
      ],
      "text/plain": [
       "     name  age\n",
       "0     Tom   60\n",
       "1  Tyrell   25\n",
       "2  Claire   33"
      ]
     },
     "execution_count": 65,
     "metadata": {},
     "output_type": "execute_result"
    }
   ],
   "source": [
    "df_w_age"
   ]
  },
  {
   "cell_type": "code",
   "execution_count": 71,
   "id": "2dd972b5",
   "metadata": {},
   "outputs": [],
   "source": [
    "df_w_height = pd.DataFrame({\n",
    "    \"name\": [\"Tom\", \"Tyrell\", \"Claire\"],\n",
    "    \"height\": [3.2, 4.0, 5.5]\n",
    "})"
   ]
  },
  {
   "cell_type": "code",
   "execution_count": 72,
   "id": "8f7db733",
   "metadata": {},
   "outputs": [
    {
     "data": {
      "text/html": [
       "<div>\n",
       "<style scoped>\n",
       "    .dataframe tbody tr th:only-of-type {\n",
       "        vertical-align: middle;\n",
       "    }\n",
       "\n",
       "    .dataframe tbody tr th {\n",
       "        vertical-align: top;\n",
       "    }\n",
       "\n",
       "    .dataframe thead th {\n",
       "        text-align: right;\n",
       "    }\n",
       "</style>\n",
       "<table border=\"1\" class=\"dataframe\">\n",
       "  <thead>\n",
       "    <tr style=\"text-align: right;\">\n",
       "      <th></th>\n",
       "      <th>name</th>\n",
       "      <th>height</th>\n",
       "    </tr>\n",
       "  </thead>\n",
       "  <tbody>\n",
       "    <tr>\n",
       "      <th>0</th>\n",
       "      <td>Tom</td>\n",
       "      <td>3.2</td>\n",
       "    </tr>\n",
       "    <tr>\n",
       "      <th>1</th>\n",
       "      <td>Tyrell</td>\n",
       "      <td>4.0</td>\n",
       "    </tr>\n",
       "    <tr>\n",
       "      <th>2</th>\n",
       "      <td>Claire</td>\n",
       "      <td>5.5</td>\n",
       "    </tr>\n",
       "  </tbody>\n",
       "</table>\n",
       "</div>"
      ],
      "text/plain": [
       "     name  height\n",
       "0     Tom     3.2\n",
       "1  Tyrell     4.0\n",
       "2  Claire     5.5"
      ]
     },
     "execution_count": 72,
     "metadata": {},
     "output_type": "execute_result"
    }
   ],
   "source": [
    "df_w_height"
   ]
  },
  {
   "cell_type": "code",
   "execution_count": 73,
   "id": "6ae57f03",
   "metadata": {},
   "outputs": [],
   "source": [
    "joined = df_w_age.set_index(\"name\").join(df_w_height.set_index(\"name\"))"
   ]
  },
  {
   "cell_type": "code",
   "execution_count": 74,
   "id": "3fa13b89",
   "metadata": {},
   "outputs": [
    {
     "name": "stdout",
     "output_type": "stream",
     "text": [
      "        age  height\n",
      "name               \n",
      "Tom      60     3.2\n",
      "Tyrell   25     4.0\n",
      "Claire   33     5.5\n"
     ]
    }
   ],
   "source": [
    "print(joined)"
   ]
  },
  {
   "cell_type": "code",
   "execution_count": 75,
   "id": "81b4c497",
   "metadata": {},
   "outputs": [
    {
     "name": "stdout",
     "output_type": "stream",
     "text": [
      "     name  age  height\n",
      "0     Tom   60     3.2\n",
      "1  Tyrell   25     4.0\n",
      "2  Claire   33     5.5\n"
     ]
    }
   ],
   "source": [
    "print(joined.reset_index())"
   ]
  },
  {
   "cell_type": "code",
   "execution_count": null,
   "id": "9edd1aac",
   "metadata": {},
   "outputs": [],
   "source": []
  },
  {
   "cell_type": "markdown",
   "id": "445b9ce0",
   "metadata": {},
   "source": [
    "    데이터 프레임을 분할해서 새로운 데이터 프레임을 만들 수도 있습니다. 그러려면 groupby() 함수에 어떻게 데이터프레임을 분할하고 어떤 행을 선택할지 조건으로 넣어줍니다."
   ]
  },
  {
   "cell_type": "code",
   "execution_count": null,
   "id": "1293810c",
   "metadata": {},
   "outputs": [],
   "source": []
  },
  {
   "cell_type": "code",
   "execution_count": 76,
   "id": "3e6e8351",
   "metadata": {},
   "outputs": [],
   "source": [
    "df = pd.DataFrame({\n",
    "    \"name\": [\"Tom\", \"Tyrell\", \"Claire\"],\n",
    "    \"age\": [60, 25, 33],\n",
    "    \"height\": [6.2, 4.0, 5.5],\n",
    "    \"gender\": [\"M\", \"M\", \"F\"]\n",
    "})"
   ]
  },
  {
   "cell_type": "code",
   "execution_count": 77,
   "id": "83640dda",
   "metadata": {},
   "outputs": [],
   "source": [
    "# 내장 함수 mean()으로 각 열의 평균값을 구한다."
   ]
  },
  {
   "cell_type": "code",
   "execution_count": 78,
   "id": "82ce794b",
   "metadata": {
    "scrolled": true
   },
   "outputs": [
    {
     "name": "stdout",
     "output_type": "stream",
     "text": [
      "         age  height\n",
      "gender              \n",
      "F       33.0     5.5\n",
      "M       42.5     5.1\n"
     ]
    }
   ],
   "source": [
    "print(df.groupby(\"gender\").mean())"
   ]
  },
  {
   "cell_type": "code",
   "execution_count": 79,
   "id": "eb8ed65a",
   "metadata": {},
   "outputs": [],
   "source": [
    "medians = df.groupby(\"gender\").quantile(0.5)"
   ]
  },
  {
   "cell_type": "code",
   "execution_count": 80,
   "id": "16b34614",
   "metadata": {},
   "outputs": [],
   "source": [
    "# 이번엔 열마다 우리가 정의한 연산을 적용한다."
   ]
  },
  {
   "cell_type": "code",
   "execution_count": 81,
   "id": "40cca429",
   "metadata": {},
   "outputs": [],
   "source": [
    "def agg(ddf):\n",
    "    return pd.Series({\n",
    "        \"name\": max(ddf[\"name\"]),\n",
    "        \"oldest\": max(ddf[\"age\"]),\n",
    "        \"mean_height\": ddf[\"height\"].mean()\n",
    "    })"
   ]
  },
  {
   "cell_type": "code",
   "execution_count": 82,
   "id": "298c5a4b",
   "metadata": {},
   "outputs": [
    {
     "name": "stdout",
     "output_type": "stream",
     "text": [
      "          name  oldest  mean_height\n",
      "gender                             \n",
      "F       Claire      33          5.5\n",
      "M       Tyrell      60          5.1\n"
     ]
    }
   ],
   "source": [
    "print(df.groupby(\"gender\").apply(agg))"
   ]
  },
  {
   "cell_type": "code",
   "execution_count": null,
   "id": "008e95c3",
   "metadata": {},
   "outputs": [],
   "source": []
  }
 ],
 "metadata": {
  "kernelspec": {
   "display_name": "Python 3",
   "language": "python",
   "name": "python3"
  },
  "language_info": {
   "codemirror_mode": {
    "name": "ipython",
    "version": 3
   },
   "file_extension": ".py",
   "mimetype": "text/x-python",
   "name": "python",
   "nbconvert_exporter": "python",
   "pygments_lexer": "ipython3",
   "version": "3.8.8"
  }
 },
 "nbformat": 4,
 "nbformat_minor": 5
}
