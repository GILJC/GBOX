{
 "cells": [
  {
   "cell_type": "code",
   "execution_count": 1,
   "id": "60abda84",
   "metadata": {},
   "outputs": [
    {
     "data": {
      "text/plain": [
       "'Hello'"
      ]
     },
     "execution_count": 1,
     "metadata": {},
     "output_type": "execute_result"
    }
   ],
   "source": [
    "'Hello'"
   ]
  },
  {
   "cell_type": "code",
   "execution_count": 2,
   "id": "47540987",
   "metadata": {},
   "outputs": [
    {
     "data": {
      "text/plain": [
       "'Hello'"
      ]
     },
     "execution_count": 2,
     "metadata": {},
     "output_type": "execute_result"
    }
   ],
   "source": [
    "\"Hello\""
   ]
  },
  {
   "cell_type": "code",
   "execution_count": 3,
   "id": "d046ac81",
   "metadata": {},
   "outputs": [
    {
     "name": "stdout",
     "output_type": "stream",
     "text": [
      "Hello\n"
     ]
    }
   ],
   "source": [
    "print('Hello')"
   ]
  },
  {
   "cell_type": "code",
   "execution_count": 4,
   "id": "e8944c95",
   "metadata": {},
   "outputs": [
    {
     "name": "stdout",
     "output_type": "stream",
     "text": [
      "Hello\n"
     ]
    }
   ],
   "source": [
    "print(\"Hello\")"
   ]
  },
  {
   "cell_type": "code",
   "execution_count": 10,
   "id": "c0b8f252",
   "metadata": {},
   "outputs": [
    {
     "name": "stdout",
     "output_type": "stream",
     "text": [
      "반가워요 반가워요 반가워요 반가워요 반가워요 반가워요 반가워요 반가워요 반가워요 반가워요 반가워요 반가워요 반가워요 반가워요 반가워요 반가워요 반가워요 반가워요 반가워요 반가워요 \n"
     ]
    }
   ],
   "source": [
    "print('반가워요 ' * 20)"
   ]
  },
  {
   "cell_type": "code",
   "execution_count": 8,
   "id": "e84e49bc",
   "metadata": {},
   "outputs": [
    {
     "ename": "TypeError",
     "evalue": "can only concatenate str (not \"int\") to str",
     "output_type": "error",
     "traceback": [
      "\u001b[1;31m---------------------------------------------------------------------------\u001b[0m",
      "\u001b[1;31mTypeError\u001b[0m                                 Traceback (most recent call last)",
      "\u001b[1;32m<ipython-input-8-b0271302690a>\u001b[0m in \u001b[0;36m<module>\u001b[1;34m\u001b[0m\n\u001b[1;32m----> 1\u001b[1;33m \u001b[0mprint\u001b[0m\u001b[1;33m(\u001b[0m\u001b[1;34m'반가워요 '\u001b[0m \u001b[1;33m+\u001b[0m\u001b[1;36m2\u001b[0m\u001b[1;33m)\u001b[0m\u001b[1;33m\u001b[0m\u001b[1;33m\u001b[0m\u001b[0m\n\u001b[0m",
      "\u001b[1;31mTypeError\u001b[0m: can only concatenate str (not \"int\") to str"
     ]
    }
   ],
   "source": [
    "print('반가워요 ' +2)"
   ]
  },
  {
   "cell_type": "code",
   "execution_count": 9,
   "id": "b9d0edad",
   "metadata": {},
   "outputs": [
    {
     "ename": "TypeError",
     "evalue": "unsupported operand type(s) for /: 'str' and 'int'",
     "output_type": "error",
     "traceback": [
      "\u001b[1;31m---------------------------------------------------------------------------\u001b[0m",
      "\u001b[1;31mTypeError\u001b[0m                                 Traceback (most recent call last)",
      "\u001b[1;32m<ipython-input-9-2c0dcba2e94b>\u001b[0m in \u001b[0;36m<module>\u001b[1;34m\u001b[0m\n\u001b[1;32m----> 1\u001b[1;33m \u001b[0mprint\u001b[0m\u001b[1;33m(\u001b[0m\u001b[1;34m'반가워요 '\u001b[0m \u001b[1;33m/\u001b[0m\u001b[1;36m2\u001b[0m\u001b[1;33m)\u001b[0m\u001b[1;33m\u001b[0m\u001b[1;33m\u001b[0m\u001b[0m\n\u001b[0m",
      "\u001b[1;31mTypeError\u001b[0m: unsupported operand type(s) for /: 'str' and 'int'"
     ]
    }
   ],
   "source": [
    "print('반가워요 ' /2)"
   ]
  },
  {
   "cell_type": "code",
   "execution_count": 11,
   "id": "31cab9d7",
   "metadata": {},
   "outputs": [
    {
     "ename": "TypeError",
     "evalue": "unsupported operand type(s) for ** or pow(): 'str' and 'int'",
     "output_type": "error",
     "traceback": [
      "\u001b[1;31m---------------------------------------------------------------------------\u001b[0m",
      "\u001b[1;31mTypeError\u001b[0m                                 Traceback (most recent call last)",
      "\u001b[1;32m<ipython-input-11-97612abb5628>\u001b[0m in \u001b[0;36m<module>\u001b[1;34m\u001b[0m\n\u001b[1;32m----> 1\u001b[1;33m \u001b[0mprint\u001b[0m\u001b[1;33m(\u001b[0m\u001b[1;34m'반가워요 '\u001b[0m \u001b[1;33m**\u001b[0m \u001b[1;36m20\u001b[0m\u001b[1;33m)\u001b[0m\u001b[1;33m\u001b[0m\u001b[1;33m\u001b[0m\u001b[0m\n\u001b[0m",
      "\u001b[1;31mTypeError\u001b[0m: unsupported operand type(s) for ** or pow(): 'str' and 'int'"
     ]
    }
   ],
   "source": [
    "print('반가워요 ' ** 20)"
   ]
  },
  {
   "cell_type": "code",
   "execution_count": 12,
   "id": "6c307a46",
   "metadata": {},
   "outputs": [
    {
     "ename": "SyntaxError",
     "evalue": "invalid syntax (<ipython-input-12-8eb408f294bd>, line 1)",
     "output_type": "error",
     "traceback": [
      "\u001b[1;36m  File \u001b[1;32m\"<ipython-input-12-8eb408f294bd>\"\u001b[1;36m, line \u001b[1;32m1\u001b[0m\n\u001b[1;33m    multiline_string = \"\"\"this is holy what\"\"\"newline\"\"\"the fuck\"\"\"\u001b[0m\n\u001b[1;37m                                              ^\u001b[0m\n\u001b[1;31mSyntaxError\u001b[0m\u001b[1;31m:\u001b[0m invalid syntax\n"
     ]
    }
   ],
   "source": [
    "multiline_string = \"\"\"this is holy what\"\"\"newline\"\"\"the fuck\"\"\""
   ]
  },
  {
   "cell_type": "code",
   "execution_count": 13,
   "id": "1612fc7c",
   "metadata": {},
   "outputs": [],
   "source": [
    "multiline_string = \"\"\"this is a multiline string with \"\"newline\"\" characters whitin the string\"\"\""
   ]
  },
  {
   "cell_type": "code",
   "execution_count": 15,
   "id": "3afaefdc",
   "metadata": {},
   "outputs": [
    {
     "name": "stdout",
     "output_type": "stream",
     "text": [
      "this is a multiline string with \"\"newline\"\" characters whitin the string\n"
     ]
    }
   ],
   "source": [
    "print(multiline_string)"
   ]
  },
  {
   "cell_type": "code",
   "execution_count": 18,
   "id": "6d3443f3",
   "metadata": {},
   "outputs": [],
   "source": [
    "import turtle"
   ]
  },
  {
   "cell_type": "code",
   "execution_count": 19,
   "id": "fd432d7d",
   "metadata": {},
   "outputs": [],
   "source": [
    "t= turtle.Turtle()"
   ]
  },
  {
   "cell_type": "code",
   "execution_count": 20,
   "id": "172b942c",
   "metadata": {},
   "outputs": [],
   "source": [
    "t.shape('turtle')"
   ]
  },
  {
   "cell_type": "code",
   "execution_count": 21,
   "id": "1c3e55cb",
   "metadata": {},
   "outputs": [],
   "source": [
    "t.forward(100)"
   ]
  },
  {
   "cell_type": "code",
   "execution_count": 22,
   "id": "35b0847e",
   "metadata": {},
   "outputs": [],
   "source": [
    "t.left(90)"
   ]
  },
  {
   "cell_type": "code",
   "execution_count": null,
   "id": "26185842",
   "metadata": {},
   "outputs": [],
   "source": [
    "t.forward(50)"
   ]
  },
  {
   "cell_type": "code",
   "execution_count": 2,
   "id": "a89b763f",
   "metadata": {},
   "outputs": [
    {
     "ename": "NameError",
     "evalue": "name 'Python' is not defined",
     "output_type": "error",
     "traceback": [
      "\u001b[1;31m---------------------------------------------------------------------------\u001b[0m",
      "\u001b[1;31mNameError\u001b[0m                                 Traceback (most recent call last)",
      "\u001b[1;32m<ipython-input-2-e23920f12d3b>\u001b[0m in \u001b[0;36m<module>\u001b[1;34m\u001b[0m\n\u001b[1;32m----> 1\u001b[1;33m \u001b[0mprint\u001b[0m\u001b[1;33m(\u001b[0m\u001b[0mPython\u001b[0m\u001b[1;33m)\u001b[0m\u001b[1;33m\u001b[0m\u001b[1;33m\u001b[0m\u001b[0m\n\u001b[0m",
      "\u001b[1;31mNameError\u001b[0m: name 'Python' is not defined"
     ]
    }
   ],
   "source": [
    "print(Python)"
   ]
  },
  {
   "cell_type": "code",
   "execution_count": 5,
   "id": "fc12787e",
   "metadata": {},
   "outputs": [
    {
     "name": "stdout",
     "output_type": "stream",
     "text": [
      "9*8은 72 입니다\n"
     ]
    }
   ],
   "source": [
    "print(\"9*8은\", 9*8, \"입니다\")"
   ]
  },
  {
   "cell_type": "code",
   "execution_count": 9,
   "id": "0c1736eb",
   "metadata": {},
   "outputs": [],
   "source": [
    "a_9m8 = 9"
   ]
  },
  {
   "cell_type": "code",
   "execution_count": 11,
   "id": "a0fb51b6",
   "metadata": {},
   "outputs": [],
   "source": [
    "b_9m8 = 8"
   ]
  },
  {
   "cell_type": "code",
   "execution_count": 14,
   "id": "7214558d",
   "metadata": {},
   "outputs": [
    {
     "ename": "TypeError",
     "evalue": "can only concatenate str (not \"int\") to str",
     "output_type": "error",
     "traceback": [
      "\u001b[1;31m---------------------------------------------------------------------------\u001b[0m",
      "\u001b[1;31mTypeError\u001b[0m                                 Traceback (most recent call last)",
      "\u001b[1;32m<ipython-input-14-780d59d3941f>\u001b[0m in \u001b[0;36m<module>\u001b[1;34m\u001b[0m\n\u001b[1;32m----> 1\u001b[1;33m \u001b[0mprint\u001b[0m\u001b[1;33m(\u001b[0m\u001b[1;34m\"9*8은\"\u001b[0m \u001b[1;33m+\u001b[0m \u001b[0ma_9m8\u001b[0m \u001b[1;33m+\u001b[0m \u001b[0mb_9m8\u001b[0m \u001b[1;33m+\u001b[0m \u001b[1;34m\"입니다\"\u001b[0m\u001b[1;33m)\u001b[0m\u001b[1;33m\u001b[0m\u001b[1;33m\u001b[0m\u001b[0m\n\u001b[0m",
      "\u001b[1;31mTypeError\u001b[0m: can only concatenate str (not \"int\") to str"
     ]
    }
   ],
   "source": [
    "print(\"9*8은\" + a_9m8 + b_9m8 + \"입니다\")"
   ]
  },
  {
   "cell_type": "markdown",
   "id": "e15f30b3",
   "metadata": {},
   "source": [
    "##### +는 string 끼리만 연결 가능, 다른 수식은 ,로만 연결 해야."
   ]
  },
  {
   "cell_type": "code",
   "execution_count": 15,
   "id": "32570296",
   "metadata": {},
   "outputs": [],
   "source": [
    "a_50_30 = 50"
   ]
  },
  {
   "cell_type": "code",
   "execution_count": 16,
   "id": "90f42f25",
   "metadata": {},
   "outputs": [],
   "source": [
    "b_50_30 = 30"
   ]
  },
  {
   "cell_type": "code",
   "execution_count": 19,
   "id": "717609a0",
   "metadata": {},
   "outputs": [
    {
     "name": "stdout",
     "output_type": "stream",
     "text": [
      "50 + 30 = 80\n"
     ]
    }
   ],
   "source": [
    "print(a_50_30,\"+\",b_50_30,\"=\",a_50_30+b_50_30)"
   ]
  },
  {
   "cell_type": "code",
   "execution_count": 20,
   "id": "19559979",
   "metadata": {},
   "outputs": [
    {
     "name": "stdout",
     "output_type": "stream",
     "text": [
      "50 - 30 = 20\n"
     ]
    }
   ],
   "source": [
    "print(a_50_30,\"-\",b_50_30,\"=\",a_50_30 - b_50_30)"
   ]
  },
  {
   "cell_type": "code",
   "execution_count": 21,
   "id": "5276c60d",
   "metadata": {},
   "outputs": [
    {
     "name": "stdout",
     "output_type": "stream",
     "text": [
      "50 * 30 = 1500\n"
     ]
    }
   ],
   "source": [
    "print(a_50_30,\"*\",b_50_30,\"=\",a_50_30 * b_50_30)"
   ]
  },
  {
   "cell_type": "code",
   "execution_count": 22,
   "id": "aa9f5d94",
   "metadata": {},
   "outputs": [
    {
     "name": "stdout",
     "output_type": "stream",
     "text": [
      "50 / 30 = 1.6666666666666667\n"
     ]
    }
   ],
   "source": [
    "print(a_50_30,\"/\",b_50_30,\"=\",a_50_30 / b_50_30)"
   ]
  },
  {
   "cell_type": "code",
   "execution_count": 23,
   "id": "6d11f902",
   "metadata": {},
   "outputs": [
    {
     "name": "stdout",
     "output_type": "stream",
     "text": [
      "50 % 30 = 20\n"
     ]
    }
   ],
   "source": [
    "print(a_50_30,\"%\",b_50_30,\"=\",a_50_30 % b_50_30)"
   ]
  },
  {
   "cell_type": "code",
   "execution_count": 25,
   "id": "2136c72c",
   "metadata": {},
   "outputs": [
    {
     "name": "stdout",
     "output_type": "stream",
     "text": [
      "50 ^ 30 = 931322574615478515625000000000000000000000000000000\n"
     ]
    }
   ],
   "source": [
    "print(a_50_30,\"^\",b_50_30,\"=\",a_50_30 ** b_50_30)"
   ]
  },
  {
   "cell_type": "code",
   "execution_count": 27,
   "id": "da8452d4",
   "metadata": {},
   "outputs": [
    {
     "name": "stdout",
     "output_type": "stream",
     "text": [
      "50 ^ 30 = 931322574615478515625000000000000000000000000000000\n"
     ]
    }
   ],
   "source": [
    "print(a_50_30,\"^\",b_50_30,\"=\",pow(50, 30))"
   ]
  },
  {
   "cell_type": "code",
   "execution_count": 29,
   "id": "fb8454da",
   "metadata": {},
   "outputs": [
    {
     "ename": "NameError",
     "evalue": "name 'weight' is not defined",
     "output_type": "error",
     "traceback": [
      "\u001b[1;31m---------------------------------------------------------------------------\u001b[0m",
      "\u001b[1;31mNameError\u001b[0m                                 Traceback (most recent call last)",
      "\u001b[1;32m<ipython-input-29-2517cadffb43>\u001b[0m in \u001b[0;36m<module>\u001b[1;34m\u001b[0m\n\u001b[1;32m----> 1\u001b[1;33m \u001b[0mprint\u001b[0m\u001b[1;33m(\u001b[0m\u001b[0mweight\u001b[0m\u001b[1;33m)\u001b[0m\u001b[1;33m\u001b[0m\u001b[1;33m\u001b[0m\u001b[0m\n\u001b[0m",
      "\u001b[1;31mNameError\u001b[0m: name 'weight' is not defined"
     ]
    }
   ],
   "source": [
    "print(weight)"
   ]
  },
  {
   "cell_type": "code",
   "execution_count": 34,
   "id": "9945d4cc",
   "metadata": {},
   "outputs": [
    {
     "ename": "ValueError",
     "evalue": "not enough values to unpack (expected 3, got 2)",
     "output_type": "error",
     "traceback": [
      "\u001b[1;31m---------------------------------------------------------------------------\u001b[0m",
      "\u001b[1;31mValueError\u001b[0m                                Traceback (most recent call last)",
      "\u001b[1;32m<ipython-input-34-3b8438f2266c>\u001b[0m in \u001b[0;36m<module>\u001b[1;34m\u001b[0m\n\u001b[1;32m----> 1\u001b[1;33m \u001b[0mx\u001b[0m\u001b[1;33m,\u001b[0m\u001b[0my\u001b[0m\u001b[1;33m,\u001b[0m\u001b[0mz\u001b[0m \u001b[1;33m=\u001b[0m \u001b[1;36m100\u001b[0m\u001b[1;33m,\u001b[0m \u001b[1;36m200\u001b[0m\u001b[1;33m,\u001b[0m\u001b[1;33m\u001b[0m\u001b[1;33m\u001b[0m\u001b[0m\n\u001b[0m",
      "\u001b[1;31mValueError\u001b[0m: not enough values to unpack (expected 3, got 2)"
     ]
    }
   ],
   "source": [
    "x,y,z = 100, 200,"
   ]
  },
  {
   "cell_type": "code",
   "execution_count": 31,
   "id": "1f86e452",
   "metadata": {},
   "outputs": [],
   "source": [
    "x, y, z, = 100, 200, 300"
   ]
  },
  {
   "cell_type": "code",
   "execution_count": 32,
   "id": "5aecb0ae",
   "metadata": {},
   "outputs": [],
   "source": [
    "result = x+y+z"
   ]
  },
  {
   "cell_type": "code",
   "execution_count": 33,
   "id": "1b7159db",
   "metadata": {},
   "outputs": [
    {
     "name": "stdout",
     "output_type": "stream",
     "text": [
      "600\n"
     ]
    }
   ],
   "source": [
    "print(result)"
   ]
  },
  {
   "cell_type": "code",
   "execution_count": 35,
   "id": "5f20f3a6",
   "metadata": {},
   "outputs": [],
   "source": [
    "height = 181"
   ]
  },
  {
   "cell_type": "code",
   "execution_count": 36,
   "id": "cb371dbb",
   "metadata": {},
   "outputs": [],
   "source": [
    "weight = 91"
   ]
  },
  {
   "cell_type": "code",
   "execution_count": 39,
   "id": "c73459b5",
   "metadata": {},
   "outputs": [],
   "source": [
    "bml = weight / (height ** 2)"
   ]
  },
  {
   "cell_type": "code",
   "execution_count": 40,
   "id": "34c0e558",
   "metadata": {},
   "outputs": [
    {
     "name": "stdout",
     "output_type": "stream",
     "text": [
      "0.002777692988614511\n"
     ]
    }
   ],
   "source": [
    "print(bml)"
   ]
  },
  {
   "cell_type": "code",
   "execution_count": 43,
   "id": "f0f46b68",
   "metadata": {},
   "outputs": [],
   "source": [
    "pi, radius, height = 3.141592, 10, 20"
   ]
  },
  {
   "cell_type": "code",
   "execution_count": 45,
   "id": "0cb5272a",
   "metadata": {},
   "outputs": [
    {
     "name": "stdout",
     "output_type": "stream",
     "text": [
      "6283.184\n"
     ]
    }
   ],
   "source": [
    "print(pi * (radius ** 2) * height)"
   ]
  },
  {
   "cell_type": "code",
   "execution_count": 46,
   "id": "a6751873",
   "metadata": {},
   "outputs": [
    {
     "data": {
      "text/plain": [
       "True"
      ]
     },
     "execution_count": 46,
     "metadata": {},
     "output_type": "execute_result"
    }
   ],
   "source": [
    "0.1 + 0.1 == 0.2"
   ]
  },
  {
   "cell_type": "code",
   "execution_count": 47,
   "id": "8ea1e1c3",
   "metadata": {},
   "outputs": [
    {
     "data": {
      "text/plain": [
       "False"
      ]
     },
     "execution_count": 47,
     "metadata": {},
     "output_type": "execute_result"
    }
   ],
   "source": [
    "0.1 + 0.1 + 0.1 == 0.3"
   ]
  },
  {
   "cell_type": "code",
   "execution_count": 48,
   "id": "5de4941d",
   "metadata": {},
   "outputs": [
    {
     "data": {
      "text/plain": [
       "0.30000000000000004"
      ]
     },
     "execution_count": 48,
     "metadata": {},
     "output_type": "execute_result"
    }
   ],
   "source": [
    "0.1 + 0.1 + 0.1"
   ]
  },
  {
   "cell_type": "code",
   "execution_count": 50,
   "id": "3ce18ec2",
   "metadata": {},
   "outputs": [
    {
     "data": {
      "text/plain": [
       "'100원'"
      ]
     },
     "execution_count": 50,
     "metadata": {},
     "output_type": "execute_result"
    }
   ],
   "source": [
    "str(100) + '원'"
   ]
  },
  {
   "cell_type": "code",
   "execution_count": null,
   "id": "a4ae07f1",
   "metadata": {},
   "outputs": [],
   "source": []
  }
 ],
 "metadata": {
  "kernelspec": {
   "display_name": "Python 3",
   "language": "python",
   "name": "python3"
  },
  "language_info": {
   "codemirror_mode": {
    "name": "ipython",
    "version": 3
   },
   "file_extension": ".py",
   "mimetype": "text/x-python",
   "name": "python",
   "nbconvert_exporter": "python",
   "pygments_lexer": "ipython3",
   "version": "3.8.8"
  }
 },
 "nbformat": 4,
 "nbformat_minor": 5
}
