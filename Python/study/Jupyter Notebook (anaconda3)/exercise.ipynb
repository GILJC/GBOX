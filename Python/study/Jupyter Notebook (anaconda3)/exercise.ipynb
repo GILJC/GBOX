{
 "cells": [
  {
   "cell_type": "code",
   "execution_count": 2,
   "id": "4b67fe8e",
   "metadata": {},
   "outputs": [
    {
     "name": "stdout",
     "output_type": "stream",
     "text": [
      "hello Python\n"
     ]
    }
   ],
   "source": [
    "print(\"hello Python\") #print는 python의 출력함수 입니다."
   ]
  },
  {
   "cell_type": "code",
   "execution_count": null,
   "id": "6aaf5d89",
   "metadata": {},
   "outputs": [],
   "source": [
    "print(\"hello Python\")"
   ]
  },
  {
   "cell_type": "code",
   "execution_count": 3,
   "id": "ffb9e522",
   "metadata": {
    "scrolled": false
   },
   "outputs": [
    {
     "name": "stdout",
     "output_type": "stream",
     "text": [
      "hello GIL\n"
     ]
    }
   ],
   "source": [
    "print(\"hello GIL\")"
   ]
  },
  {
   "cell_type": "markdown",
   "id": "38fc024b",
   "metadata": {},
   "source": [
    "# Python"
   ]
  },
  {
   "cell_type": "code",
   "execution_count": 4,
   "id": "41299e26",
   "metadata": {
    "scrolled": true
   },
   "outputs": [
    {
     "name": "stdout",
     "output_type": "stream",
     "text": [
      "hello GIL\n"
     ]
    }
   ],
   "source": [
    "print(\"hello GIL\")"
   ]
  },
  {
   "cell_type": "code",
   "execution_count": 5,
   "id": "e4f07dfe",
   "metadata": {},
   "outputs": [
    {
     "name": "stdout",
     "output_type": "stream",
     "text": [
      "nothing\n"
     ]
    }
   ],
   "source": [
    "print(\"nothing\")"
   ]
  },
  {
   "cell_type": "code",
   "execution_count": 46,
   "id": "71c78dde",
   "metadata": {},
   "outputs": [
    {
     "ename": "SyntaxError",
     "evalue": "invalid syntax (<ipython-input-46-6b1f253a49d9>, line 1)",
     "output_type": "error",
     "traceback": [
      "\u001b[1;36m  File \u001b[1;32m\"<ipython-input-46-6b1f253a49d9>\"\u001b[1;36m, line \u001b[1;32m1\u001b[0m\n\u001b[1;33m    2***3\u001b[0m\n\u001b[1;37m       ^\u001b[0m\n\u001b[1;31mSyntaxError\u001b[0m\u001b[1;31m:\u001b[0m invalid syntax\n"
     ]
    }
   ],
   "source": [
    "2***3"
   ]
  },
  {
   "cell_type": "code",
   "execution_count": 53,
   "id": "1132c798",
   "metadata": {},
   "outputs": [
    {
     "data": {
      "text/plain": [
       "3"
      ]
     },
     "execution_count": 53,
     "metadata": {},
     "output_type": "execute_result"
    }
   ],
   "source": [
    "5-----2"
   ]
  },
  {
   "cell_type": "code",
   "execution_count": 48,
   "id": "fe8f435e",
   "metadata": {},
   "outputs": [
    {
     "data": {
      "text/plain": [
       "2"
      ]
     },
     "execution_count": 48,
     "metadata": {},
     "output_type": "execute_result"
    }
   ],
   "source": [
    "1++++++++++++++++1"
   ]
  },
  {
   "cell_type": "code",
   "execution_count": 19,
   "id": "9d95f431",
   "metadata": {},
   "outputs": [
    {
     "name": "stdout",
     "output_type": "stream",
     "text": [
      "10\n"
     ]
    }
   ],
   "source": [
    "print(100//10)"
   ]
  },
  {
   "cell_type": "code",
   "execution_count": 20,
   "id": "d6680c6d",
   "metadata": {},
   "outputs": [
    {
     "ename": "SyntaxError",
     "evalue": "invalid syntax (<ipython-input-20-b54022f05309>, line 1)",
     "output_type": "error",
     "traceback": [
      "\u001b[1;36m  File \u001b[1;32m\"<ipython-input-20-b54022f05309>\"\u001b[1;36m, line \u001b[1;32m1\u001b[0m\n\u001b[1;33m    print(100///10)\u001b[0m\n\u001b[1;37m               ^\u001b[0m\n\u001b[1;31mSyntaxError\u001b[0m\u001b[1;31m:\u001b[0m invalid syntax\n"
     ]
    }
   ],
   "source": [
    "print(100///10)"
   ]
  },
  {
   "cell_type": "code",
   "execution_count": 21,
   "id": "397cb7b2",
   "metadata": {},
   "outputs": [],
   "source": [
    "radius = 4"
   ]
  },
  {
   "cell_type": "code",
   "execution_count": 23,
   "id": "56bd5550",
   "metadata": {},
   "outputs": [],
   "source": [
    "area = 3.14 * radius * radius"
   ]
  },
  {
   "cell_type": "code",
   "execution_count": 25,
   "id": "60f165f2",
   "metadata": {},
   "outputs": [
    {
     "name": "stdout",
     "output_type": "stream",
     "text": [
      "50.24\n"
     ]
    }
   ],
   "source": [
    "print(area)"
   ]
  },
  {
   "cell_type": "code",
   "execution_count": 39,
   "id": "e900a780",
   "metadata": {},
   "outputs": [],
   "source": [
    "width=5"
   ]
  },
  {
   "cell_type": "code",
   "execution_count": 43,
   "id": "defde0b8",
   "metadata": {},
   "outputs": [],
   "source": [
    "height=10"
   ]
  },
  {
   "cell_type": "code",
   "execution_count": 41,
   "id": "4acb545f",
   "metadata": {},
   "outputs": [],
   "source": [
    "rectangle = width*height"
   ]
  },
  {
   "cell_type": "code",
   "execution_count": 44,
   "id": "b71581a7",
   "metadata": {},
   "outputs": [
    {
     "name": "stdout",
     "output_type": "stream",
     "text": [
      "50\n"
     ]
    }
   ],
   "source": [
    "print(rectangle)"
   ]
  },
  {
   "cell_type": "code",
   "execution_count": null,
   "id": "92286ea0",
   "metadata": {},
   "outputs": [],
   "source": []
  }
 ],
 "metadata": {
  "kernelspec": {
   "display_name": "Python 3",
   "language": "python",
   "name": "python3"
  },
  "language_info": {
   "codemirror_mode": {
    "name": "ipython",
    "version": 3
   },
   "file_extension": ".py",
   "mimetype": "text/x-python",
   "name": "python",
   "nbconvert_exporter": "python",
   "pygments_lexer": "ipython3",
   "version": "3.8.8"
  }
 },
 "nbformat": 4,
 "nbformat_minor": 5
}
