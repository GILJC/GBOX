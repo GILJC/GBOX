{
 "cells": [
  {
   "cell_type": "code",
   "execution_count": 5,
   "id": "c275690a",
   "metadata": {},
   "outputs": [],
   "source": [
    "weight, height = 91, 181"
   ]
  },
  {
   "cell_type": "code",
   "execution_count": 6,
   "id": "dcdc8efc",
   "metadata": {},
   "outputs": [],
   "source": [
    "bmi = weight / (height ** 2)"
   ]
  },
  {
   "cell_type": "code",
   "execution_count": 7,
   "id": "d8258c29",
   "metadata": {},
   "outputs": [
    {
     "name": "stdout",
     "output_type": "stream",
     "text": [
      "0.002777692988614511\n"
     ]
    }
   ],
   "source": [
    "print(bmi)"
   ]
  },
  {
   "cell_type": "code",
   "execution_count": null,
   "id": "2feee750",
   "metadata": {},
   "outputs": [],
   "source": []
  }
 ],
 "metadata": {
  "kernelspec": {
   "display_name": "Python 3",
   "language": "python",
   "name": "python3"
  },
  "language_info": {
   "codemirror_mode": {
    "name": "ipython",
    "version": 3
   },
   "file_extension": ".py",
   "mimetype": "text/x-python",
   "name": "python",
   "nbconvert_exporter": "python",
   "pygments_lexer": "ipython3",
   "version": "3.8.8"
  }
 },
 "nbformat": 4,
 "nbformat_minor": 5
}
